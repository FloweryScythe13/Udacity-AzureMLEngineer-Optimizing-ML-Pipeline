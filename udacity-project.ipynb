{
  "cells": [
    {
      "cell_type": "code",
      "source": [
        "from azureml.core import Workspace, Experiment\n",
        "\n",
        "ws = Workspace.from_config()\n",
        "exp = Experiment(workspace=ws, name=\"udacity-project\")\n",
        "\n",
        "print('Workspace name: ' + ws.name, \n",
        "      'Azure region: ' + ws.location, \n",
        "      'Subscription id: ' + ws.subscription_id, \n",
        "      'Resource group: ' + ws.resource_group, sep = '\\n')\n",
        "\n",
        "run = exp.start_logging()"
      ],
      "outputs": [
        {
          "output_type": "stream",
          "name": "stdout",
          "text": "Workspace name: quick-starts-ws-206718\nAzure region: southcentralus\nSubscription id: 9e65f93e-bdd8-437b-b1e8-0647cd6098f7\nResource group: aml-quickstarts-206718\n"
        }
      ],
      "execution_count": 1,
      "metadata": {
        "gather": {
          "logged": 1662669927784
        }
      }
    },
    {
      "cell_type": "code",
      "source": [
        "from azureml.core.compute import ComputeTarget, AmlCompute\n",
        "\n",
        "cluster_name = \"ebailey-udacity-cluster\"\n",
        "\n",
        "# TODO: Create compute cluster\n",
        "# Use vm_size = \"Standard_D2_V2\" in your provisioning configuration.\n",
        "# max_nodes should be no greater than 4.\n",
        "try:\n",
        "    cluster = ComputeTarget(ws, cluster_name)\n",
        "    print(\"cluster exists already\")\n",
        "except: \n",
        "    cluster_config = AmlCompute.provisioning_configuration(vm_size=\"Standard_D2_V2\", max_nodes=3)\n",
        "    cluster = ComputeTarget.create(ws, cluster_name, cluster_config)\n",
        "\n",
        "cluster.wait_for_completion(show_output=True)\n"
      ],
      "outputs": [
        {
          "output_type": "stream",
          "name": "stdout",
          "text": "InProgress.\nSucceededProvisioning operation finished, operation \"Succeeded\"\nSucceeded\nAmlCompute wait for completion finished\n\nMinimum number of nodes requested have been provisioned\n"
        }
      ],
      "execution_count": 2,
      "metadata": {
        "gather": {
          "logged": 1662669933933
        },
        "jupyter": {
          "outputs_hidden": false,
          "source_hidden": false
        },
        "nteract": {
          "transient": {
            "deleting": false
          }
        }
      }
    },
    {
      "cell_type": "code",
      "source": [
        "from azureml.widgets import RunDetails\n",
        "from azureml.train.sklearn import SKLearn\n",
        "from azureml.train.hyperdrive.run import PrimaryMetricGoal\n",
        "from azureml.train.hyperdrive.policy import BanditPolicy, MedianStoppingPolicy\n",
        "from azureml.train.hyperdrive.sampling import RandomParameterSampling\n",
        "from azureml.train.hyperdrive.runconfig import HyperDriveConfig\n",
        "from azureml.train.hyperdrive.parameter_expressions import choice, uniform\n",
        "from azureml.core import Environment, ScriptRunConfig\n",
        "import os\n",
        "\n",
        "# Specify parameter sampler\n",
        "ps = RandomParameterSampling({\n",
        "    \"C\": uniform(0.25, 1.75), \n",
        "    \"max_iter\": choice(60, 80, 100, 120, 140)\n",
        "})\n",
        "\n",
        "# Specify a Policy\n",
        "policy = MedianStoppingPolicy()\n",
        "\n",
        "if \"training\" not in os.listdir():\n",
        "    os.mkdir(\"./training\")\n",
        "\n",
        "# Setup environment for your training run\n",
        "sklearn_env = Environment.from_conda_specification(name='sklearn-env', file_path='conda_dependencies.yml')\n",
        "\n",
        "# Create a ScriptRunConfig Object to specify the configuration details of your training job\n",
        "src = ScriptRunConfig(\".\", \"train.py\", compute_target=cluster, environment=sklearn_env)\n",
        "\n",
        "# Create a HyperDriveConfig using the src object, hyperparameter sampler, and policy.\n",
        "hyperdrive_config = HyperDriveConfig(hyperparameter_sampling=ps, primary_metric_name=\"accuracy\", primary_metric_goal=PrimaryMetricGoal.MAXIMIZE, max_total_runs=30, policy=policy, run_config=src)"
      ],
      "outputs": [],
      "execution_count": 3,
      "metadata": {
        "gather": {
          "logged": 1662669938054
        },
        "jupyter": {
          "outputs_hidden": false,
          "source_hidden": false
        },
        "nteract": {
          "transient": {
            "deleting": false
          }
        }
      }
    },
    {
      "cell_type": "code",
      "source": [
        "# Submit your hyperdrive run to the experiment and show run details with the widget.\n",
        "\n",
        "exp.submit(hyperdrive_config)"
      ],
      "outputs": [
        {
          "output_type": "execute_result",
          "execution_count": 4,
          "data": {
            "text/plain": "Run(Experiment: udacity-project,\nId: HD_693c766d-b133-4986-9aa0-9e28a0dee537,\nType: hyperdrive,\nStatus: Running)",
            "text/html": "<table style=\"width:100%\"><tr><th>Experiment</th><th>Id</th><th>Type</th><th>Status</th><th>Details Page</th><th>Docs Page</th></tr><tr><td>udacity-project</td><td>HD_693c766d-b133-4986-9aa0-9e28a0dee537</td><td>hyperdrive</td><td>Running</td><td><a href=\"https://ml.azure.com/runs/HD_693c766d-b133-4986-9aa0-9e28a0dee537?wsid=/subscriptions/9e65f93e-bdd8-437b-b1e8-0647cd6098f7/resourcegroups/aml-quickstarts-206718/workspaces/quick-starts-ws-206718&amp;tid=660b3398-b80e-49d2-bc5b-ac1dc93b5254\" target=\"_blank\" rel=\"noopener\">Link to Azure Machine Learning studio</a></td><td><a href=\"https://docs.microsoft.com/en-us/python/api/overview/azure/ml/intro?view=azure-ml-py\" target=\"_blank\" rel=\"noopener\">Link to Documentation</a></td></tr></table>"
          },
          "metadata": {}
        }
      ],
      "execution_count": 4,
      "metadata": {
        "gather": {
          "logged": 1662669940146
        }
      }
    },
    {
      "cell_type": "code",
      "source": [
        "RunDetails(run).show()"
      ],
      "outputs": [
        {
          "output_type": "display_data",
          "data": {
            "text/plain": "_UserRunWidget(widget_settings={'childWidgetDisplay': 'popup', 'send_telemetry': False, 'log_level': 'INFO', '…",
            "application/vnd.jupyter.widget-view+json": {
              "version_major": 2,
              "version_minor": 0,
              "model_id": "832cc90ed0e44b49809c6501c97cf83b"
            }
          },
          "metadata": {}
        },
        {
          "output_type": "display_data",
          "data": {
            "application/aml.mini.widget.v1": "{\"status\": \"Running\", \"workbench_run_details_uri\": \"https://ml.azure.com/runs/6fa29276-dea5-4a15-b3a5-c8cae573573e?wsid=/subscriptions/9e65f93e-bdd8-437b-b1e8-0647cd6098f7/resourcegroups/aml-quickstarts-206718/workspaces/quick-starts-ws-206718&tid=660b3398-b80e-49d2-bc5b-ac1dc93b5254\", \"run_id\": \"6fa29276-dea5-4a15-b3a5-c8cae573573e\", \"run_properties\": {\"run_id\": \"6fa29276-dea5-4a15-b3a5-c8cae573573e\", \"created_utc\": \"2022-09-08T20:45:24.573716Z\", \"properties\": {\"ContentSnapshotId\": \"c3669427-75a7-4584-a38f-679533eb7c39\"}, \"tags\": {}, \"end_time_utc\": null, \"status\": \"Running\", \"log_files\": {}, \"log_groups\": [], \"run_duration\": \"1:13:28\", \"run_number\": \"1662669924\", \"run_queued_details\": {\"status\": \"Running\", \"details\": null}}, \"child_runs\": [], \"children_metrics\": {}, \"run_metrics\": [], \"run_logs\": \"Your job is submitted in Azure cloud and we are monitoring to get logs...\", \"graph\": {}, \"widget_settings\": {\"childWidgetDisplay\": \"popup\", \"send_telemetry\": false, \"log_level\": \"INFO\", \"sdk_version\": \"1.44.0\"}, \"loading\": false}"
          },
          "metadata": {}
        }
      ],
      "execution_count": 10,
      "metadata": {
        "gather": {
          "logged": 1662671443884
        }
      }
    },
    {
      "cell_type": "code",
      "source": [
        "import joblib\n",
        "# Get your best run and save the model from that run.\n",
        "runs = list(exp.get_runs())\n"
      ],
      "outputs": [],
      "execution_count": 22,
      "metadata": {
        "gather": {
          "logged": 1662672400974
        },
        "jupyter": {
          "outputs_hidden": false,
          "source_hidden": false
        },
        "nteract": {
          "transient": {
            "deleting": false
          }
        }
      }
    },
    {
      "cell_type": "code",
      "source": [
        "metrics = runs[0].get_metrics()\r\n",
        "parameter_values = runs[0].get_details()['runDefinition']\r\n",
        "print(metrics)\r\n"
      ],
      "outputs": [
        {
          "output_type": "stream",
          "name": "stdout",
          "text": "{'HD_693c766d-b133-4986-9aa0-9e28a0dee537_25': {'Regularization Strength:': 1.0786362717814155, 'Max iterations:': 120, 'Accuracy': 0.9116843702579667}, 'HD_693c766d-b133-4986-9aa0-9e28a0dee537_23': {'Regularization Strength:': 1.0177547887019878, 'Max iterations:': 120, 'Accuracy': 0.9119878603945372}, 'HD_693c766d-b133-4986-9aa0-9e28a0dee537_19': {'Regularization Strength:': 1.067291206340949, 'Max iterations:': 80, 'Accuracy': 0.9106221547799697}, 'HD_693c766d-b133-4986-9aa0-9e28a0dee537_18': {'Regularization Strength:': 0.35961541131230007, 'Max iterations:': 80, 'Accuracy': 0.903793626707132}, 'HD_693c766d-b133-4986-9aa0-9e28a0dee537_17': {'Regularization Strength:': 0.3808053003814755, 'Max iterations:': 80, 'Accuracy': 0.9072837632776934}, 'HD_693c766d-b133-4986-9aa0-9e28a0dee537_8': {'Regularization Strength:': 0.44651103473258086, 'Max iterations:': 120, 'Accuracy': 0.9084977238239758}, 'HD_693c766d-b133-4986-9aa0-9e28a0dee537_13': {'Regularization Strength:': 0.7868745990011794, 'Max iterations:': 140, 'Accuracy': 0.9101669195751139}, 'HD_693c766d-b133-4986-9aa0-9e28a0dee537_7': {'Regularization Strength:': 0.407085741754582, 'Max iterations:': 120, 'Accuracy': 0.909711684370258}, 'HD_693c766d-b133-4986-9aa0-9e28a0dee537_3': {'Regularization Strength:': 1.0176733838219512, 'Max iterations:': 120, 'Accuracy': 0.9062215477996965}, 'HD_693c766d-b133-4986-9aa0-9e28a0dee537_6': {'Regularization Strength:': 1.024593044895659, 'Max iterations:': 120, 'Accuracy': 0.9138088012139606}, 'HD_693c766d-b133-4986-9aa0-9e28a0dee537_28': {'Regularization Strength:': 0.31486755902742924, 'Max iterations:': 80, 'Accuracy': 0.909711684370258}, 'HD_693c766d-b133-4986-9aa0-9e28a0dee537_2': {'Regularization Strength:': 0.9168078587061087, 'Max iterations:': 120, 'Accuracy': 0.9078907435508345}, 'HD_693c766d-b133-4986-9aa0-9e28a0dee537_9': {'Regularization Strength:': 1.0169310959224402, 'Max iterations:': 120, 'Accuracy': 0.9104704097116844}, 'HD_693c766d-b133-4986-9aa0-9e28a0dee537_14': {'Regularization Strength:': 1.2930633573839398, 'Max iterations:': 80, 'Accuracy': 0.906525037936267}, 'HD_693c766d-b133-4986-9aa0-9e28a0dee537_11': {'Regularization Strength:': 0.7414186551026216, 'Max iterations:': 60, 'Accuracy': 0.9094081942336874}, 'HD_693c766d-b133-4986-9aa0-9e28a0dee537_16': {'Regularization Strength:': 0.6421230155938669, 'Max iterations:': 140, 'Accuracy': 0.9042488619119878}, 'HD_693c766d-b133-4986-9aa0-9e28a0dee537_24': {'Regularization Strength:': 0.5917063429907758, 'Max iterations:': 120, 'Accuracy': 0.9106221547799697}, 'HD_693c766d-b133-4986-9aa0-9e28a0dee537_12': {'Regularization Strength:': 0.26061236641749586, 'Max iterations:': 140, 'Accuracy': 0.9088012139605463}, 'HD_693c766d-b133-4986-9aa0-9e28a0dee537_20': {'Regularization Strength:': 0.7609561488838704, 'Max iterations:': 140, 'Accuracy': 0.9063732928679817}, 'HD_693c766d-b133-4986-9aa0-9e28a0dee537_15': {'Regularization Strength:': 0.49903842004482246, 'Max iterations:': 80, 'Accuracy': 0.9110773899848255}, 'HD_693c766d-b133-4986-9aa0-9e28a0dee537_26': {'Regularization Strength:': 1.4344666954828487, 'Max iterations:': 60, 'Accuracy': 0.9072837632776934}, 'HD_693c766d-b133-4986-9aa0-9e28a0dee537_27': {'Regularization Strength:': 1.42216044930827, 'Max iterations:': 80, 'Accuracy': 0.9077389984825494}, 'HD_693c766d-b133-4986-9aa0-9e28a0dee537_0': {'Regularization Strength:': 0.5643635742377489, 'Max iterations:': 140, 'Accuracy': 0.9057663125948406}, 'HD_693c766d-b133-4986-9aa0-9e28a0dee537_10': {'Regularization Strength:': 1.580469098868848, 'Max iterations:': 140, 'Accuracy': 0.9074355083459787}, 'HD_693c766d-b133-4986-9aa0-9e28a0dee537_5': {'Regularization Strength:': 1.2897765341787146, 'Max iterations:': 100, 'Accuracy': 0.9056145675265553}, 'HD_693c766d-b133-4986-9aa0-9e28a0dee537_22': {'Regularization Strength:': 1.238994477249241, 'Max iterations:': 60, 'Accuracy': 0.9071320182094081}, 'HD_693c766d-b133-4986-9aa0-9e28a0dee537_1': {'Regularization Strength:': 0.8173542213420455, 'Max iterations:': 80, 'Accuracy': 0.9103186646433991}, 'HD_693c766d-b133-4986-9aa0-9e28a0dee537_29': {'Regularization Strength:': 1.6233199215917704, 'Max iterations:': 120, 'Accuracy': 0.9080424886191198}, 'HD_693c766d-b133-4986-9aa0-9e28a0dee537_21': {'Regularization Strength:': 0.787231669687922, 'Max iterations:': 140, 'Accuracy': 0.9106221547799697}, 'HD_693c766d-b133-4986-9aa0-9e28a0dee537_4': {'Regularization Strength:': 1.5338825735401653, 'Max iterations:': 60, 'Accuracy': 0.9121396054628225}}\n"
        }
      ],
      "execution_count": 31,
      "metadata": {
        "jupyter": {
          "source_hidden": false,
          "outputs_hidden": false
        },
        "nteract": {
          "transient": {
            "deleting": false
          }
        },
        "gather": {
          "logged": 1662673150282
        }
      }
    },
    {
      "cell_type": "code",
      "source": [
        "metrics_sorted = sorted(metrics.items(), key=lambda x: x[1]['Accuracy'], reverse=True)\r\n",
        "print(metrics_sorted)"
      ],
      "outputs": [
        {
          "output_type": "stream",
          "name": "stdout",
          "text": "[('HD_693c766d-b133-4986-9aa0-9e28a0dee537_6', {'Regularization Strength:': 1.024593044895659, 'Max iterations:': 120, 'Accuracy': 0.9138088012139606}), ('HD_693c766d-b133-4986-9aa0-9e28a0dee537_4', {'Regularization Strength:': 1.5338825735401653, 'Max iterations:': 60, 'Accuracy': 0.9121396054628225}), ('HD_693c766d-b133-4986-9aa0-9e28a0dee537_23', {'Regularization Strength:': 1.0177547887019878, 'Max iterations:': 120, 'Accuracy': 0.9119878603945372}), ('HD_693c766d-b133-4986-9aa0-9e28a0dee537_25', {'Regularization Strength:': 1.0786362717814155, 'Max iterations:': 120, 'Accuracy': 0.9116843702579667}), ('HD_693c766d-b133-4986-9aa0-9e28a0dee537_15', {'Regularization Strength:': 0.49903842004482246, 'Max iterations:': 80, 'Accuracy': 0.9110773899848255}), ('HD_693c766d-b133-4986-9aa0-9e28a0dee537_19', {'Regularization Strength:': 1.067291206340949, 'Max iterations:': 80, 'Accuracy': 0.9106221547799697}), ('HD_693c766d-b133-4986-9aa0-9e28a0dee537_24', {'Regularization Strength:': 0.5917063429907758, 'Max iterations:': 120, 'Accuracy': 0.9106221547799697}), ('HD_693c766d-b133-4986-9aa0-9e28a0dee537_21', {'Regularization Strength:': 0.787231669687922, 'Max iterations:': 140, 'Accuracy': 0.9106221547799697}), ('HD_693c766d-b133-4986-9aa0-9e28a0dee537_9', {'Regularization Strength:': 1.0169310959224402, 'Max iterations:': 120, 'Accuracy': 0.9104704097116844}), ('HD_693c766d-b133-4986-9aa0-9e28a0dee537_1', {'Regularization Strength:': 0.8173542213420455, 'Max iterations:': 80, 'Accuracy': 0.9103186646433991}), ('HD_693c766d-b133-4986-9aa0-9e28a0dee537_13', {'Regularization Strength:': 0.7868745990011794, 'Max iterations:': 140, 'Accuracy': 0.9101669195751139}), ('HD_693c766d-b133-4986-9aa0-9e28a0dee537_7', {'Regularization Strength:': 0.407085741754582, 'Max iterations:': 120, 'Accuracy': 0.909711684370258}), ('HD_693c766d-b133-4986-9aa0-9e28a0dee537_28', {'Regularization Strength:': 0.31486755902742924, 'Max iterations:': 80, 'Accuracy': 0.909711684370258}), ('HD_693c766d-b133-4986-9aa0-9e28a0dee537_11', {'Regularization Strength:': 0.7414186551026216, 'Max iterations:': 60, 'Accuracy': 0.9094081942336874}), ('HD_693c766d-b133-4986-9aa0-9e28a0dee537_12', {'Regularization Strength:': 0.26061236641749586, 'Max iterations:': 140, 'Accuracy': 0.9088012139605463}), ('HD_693c766d-b133-4986-9aa0-9e28a0dee537_8', {'Regularization Strength:': 0.44651103473258086, 'Max iterations:': 120, 'Accuracy': 0.9084977238239758}), ('HD_693c766d-b133-4986-9aa0-9e28a0dee537_29', {'Regularization Strength:': 1.6233199215917704, 'Max iterations:': 120, 'Accuracy': 0.9080424886191198}), ('HD_693c766d-b133-4986-9aa0-9e28a0dee537_2', {'Regularization Strength:': 0.9168078587061087, 'Max iterations:': 120, 'Accuracy': 0.9078907435508345}), ('HD_693c766d-b133-4986-9aa0-9e28a0dee537_27', {'Regularization Strength:': 1.42216044930827, 'Max iterations:': 80, 'Accuracy': 0.9077389984825494}), ('HD_693c766d-b133-4986-9aa0-9e28a0dee537_10', {'Regularization Strength:': 1.580469098868848, 'Max iterations:': 140, 'Accuracy': 0.9074355083459787}), ('HD_693c766d-b133-4986-9aa0-9e28a0dee537_17', {'Regularization Strength:': 0.3808053003814755, 'Max iterations:': 80, 'Accuracy': 0.9072837632776934}), ('HD_693c766d-b133-4986-9aa0-9e28a0dee537_26', {'Regularization Strength:': 1.4344666954828487, 'Max iterations:': 60, 'Accuracy': 0.9072837632776934}), ('HD_693c766d-b133-4986-9aa0-9e28a0dee537_22', {'Regularization Strength:': 1.238994477249241, 'Max iterations:': 60, 'Accuracy': 0.9071320182094081}), ('HD_693c766d-b133-4986-9aa0-9e28a0dee537_14', {'Regularization Strength:': 1.2930633573839398, 'Max iterations:': 80, 'Accuracy': 0.906525037936267}), ('HD_693c766d-b133-4986-9aa0-9e28a0dee537_20', {'Regularization Strength:': 0.7609561488838704, 'Max iterations:': 140, 'Accuracy': 0.9063732928679817}), ('HD_693c766d-b133-4986-9aa0-9e28a0dee537_3', {'Regularization Strength:': 1.0176733838219512, 'Max iterations:': 120, 'Accuracy': 0.9062215477996965}), ('HD_693c766d-b133-4986-9aa0-9e28a0dee537_0', {'Regularization Strength:': 0.5643635742377489, 'Max iterations:': 140, 'Accuracy': 0.9057663125948406}), ('HD_693c766d-b133-4986-9aa0-9e28a0dee537_5', {'Regularization Strength:': 1.2897765341787146, 'Max iterations:': 100, 'Accuracy': 0.9056145675265553}), ('HD_693c766d-b133-4986-9aa0-9e28a0dee537_16', {'Regularization Strength:': 0.6421230155938669, 'Max iterations:': 140, 'Accuracy': 0.9042488619119878}), ('HD_693c766d-b133-4986-9aa0-9e28a0dee537_18', {'Regularization Strength:': 0.35961541131230007, 'Max iterations:': 80, 'Accuracy': 0.903793626707132})]\n"
        }
      ],
      "execution_count": 34,
      "metadata": {
        "jupyter": {
          "source_hidden": false,
          "outputs_hidden": false
        },
        "nteract": {
          "transient": {
            "deleting": false
          }
        },
        "gather": {
          "logged": 1662673502500
        }
      }
    },
    {
      "cell_type": "code",
      "source": [
        "best_trial_run = run.get(ws, metrics_sorted[0][0])\r\n"
      ],
      "outputs": [
        {
          "output_type": "stream",
          "name": "stdout",
          "text": "Run(Experiment: udacity-project,\nId: HD_693c766d-b133-4986-9aa0-9e28a0dee537_6,\nType: azureml.scriptrun,\nStatus: Completed)\n"
        }
      ],
      "execution_count": 35,
      "metadata": {
        "jupyter": {
          "source_hidden": false,
          "outputs_hidden": false
        },
        "nteract": {
          "transient": {
            "deleting": false
          }
        },
        "gather": {
          "logged": 1662673665476
        }
      }
    },
    {
      "cell_type": "code",
      "source": [
        "from azureml.data.dataset_factory import TabularDatasetFactory\n",
        "\n",
        "# Create TabularDataset using TabularDatasetFactory\n",
        "# Data is available at: \n",
        "# \"https://automlsamplenotebookdata.blob.core.windows.net/automl-sample-notebook-data/bankmarketing_train.csv\"\n",
        "\n",
        "### YOUR CODE HERE ###"
      ],
      "outputs": [],
      "execution_count": null,
      "metadata": {}
    },
    {
      "cell_type": "code",
      "source": [
        "from train import clean_data\n",
        "\n",
        "# Use the clean_data function to clean your data.\n",
        "x, y = clean_data(### YOUR DATA OBJECT HERE ###)"
      ],
      "outputs": [],
      "execution_count": null,
      "metadata": {
        "gather": {
          "logged": 1598275726969
        },
        "jupyter": {
          "outputs_hidden": false,
          "source_hidden": false
        },
        "nteract": {
          "transient": {
            "deleting": false
          }
        }
      }
    },
    {
      "cell_type": "code",
      "source": [
        "from azureml.train.automl import AutoMLConfig\n",
        "\n",
        "# Set parameters for AutoMLConfig\n",
        "# NOTE: DO NOT CHANGE THE experiment_timeout_minutes PARAMETER OR YOUR INSTANCE WILL TIME OUT.\n",
        "# If you wish to run the experiment longer, you will need to run this notebook in your own\n",
        "# Azure tenant, which will incur personal costs.\n",
        "automl_config = AutoMLConfig(\n",
        "    experiment_timeout_minutes=30,\n",
        "    task=,\n",
        "    primary_metric=,\n",
        "    training_data=,\n",
        "    label_column_name=,\n",
        "    n_cross_validations=)"
      ],
      "outputs": [],
      "execution_count": null,
      "metadata": {
        "gather": {
          "logged": 1598275665403
        },
        "jupyter": {
          "outputs_hidden": false,
          "source_hidden": false
        },
        "nteract": {
          "transient": {
            "deleting": false
          }
        }
      }
    },
    {
      "cell_type": "code",
      "source": [
        "# Submit your automl run\n",
        "\n",
        "### YOUR CODE HERE ###"
      ],
      "outputs": [],
      "execution_count": 2,
      "metadata": {
        "jupyter": {
          "outputs_hidden": false,
          "source_hidden": false
        },
        "nteract": {
          "transient": {
            "deleting": false
          }
        }
      }
    },
    {
      "cell_type": "code",
      "source": [
        "# Retrieve and save your best automl model.\n",
        "\n",
        "### YOUR CODE HERE ###"
      ],
      "outputs": [],
      "execution_count": null,
      "metadata": {}
    }
  ],
  "metadata": {
    "kernel_info": {
      "name": "python3"
    },
    "kernelspec": {
      "name": "python3",
      "language": "python",
      "display_name": "Python 3 (ipykernel)"
    },
    "language_info": {
      "name": "python",
      "version": "3.8.5",
      "mimetype": "text/x-python",
      "codemirror_mode": {
        "name": "ipython",
        "version": 3
      },
      "pygments_lexer": "ipython3",
      "nbconvert_exporter": "python",
      "file_extension": ".py"
    },
    "nteract": {
      "version": "nteract-front-end@1.0.0"
    },
    "microsoft": {
      "host": {
        "AzureML": {
          "notebookHasBeenCompleted": true
        }
      }
    }
  },
  "nbformat": 4,
  "nbformat_minor": 2
}